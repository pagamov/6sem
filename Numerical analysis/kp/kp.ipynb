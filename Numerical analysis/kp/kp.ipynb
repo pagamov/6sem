{
 "cells": [
  {
   "cell_type": "markdown",
   "id": "06d2b341-10e4-46ea-be98-26c27dbfb30b",
   "metadata": {},
   "source": [
    "## Сингулярное разложение матрицы"
   ]
  },
  {
   "cell_type": "raw",
   "id": "62b87608-b9ce-41b7-bc89-875a614b6ecd",
   "metadata": {},
   "source": [
    "# Матрица А\n",
    "# Сначала ищем А^T * A\n",
    "# получаем собств значения\n",
    "# находим их собств векторы\n",
    "# нормируем векторы - это строчки правой матрциы разложения\n",
    "# ищем А * A^T\n",
    "# получаем собств значения\n",
    "# находим их собств векторы\n",
    "# нормируем векторы - это стоблцы левой матрциы разложения\n",
    "# составляем матрицы\n",
    "# глав диагональ средней - корни собств значений - сингулярные корни"
   ]
  },
  {
   "cell_type": "code",
   "execution_count": 2,
   "id": "58db938d-8de4-4576-8ab8-bd7809ed2778",
   "metadata": {},
   "outputs": [],
   "source": [
    "import copy\n",
    "import matplotlib.pyplot as plt\n",
    "import random\n",
    "import numpy as np\n",
    "import math"
   ]
  },
  {
   "cell_type": "code",
   "execution_count": 3,
   "id": "954c60b5-28ca-444d-b6ce-92fb9f011d59",
   "metadata": {},
   "outputs": [],
   "source": [
    "def find_max(A):\n",
    "    m, ib, jb = None, None, None\n",
    "    for i in range(len(A)):\n",
    "        for j in range(i,len(A)):\n",
    "            if i < j:\n",
    "                if m == None or abs(A[i][j]) > m:\n",
    "                    m = abs(A[i][j])\n",
    "                    ib, jb = i, j\n",
    "    return ib, jb"
   ]
  },
  {
   "cell_type": "code",
   "execution_count": 4,
   "id": "79777716-41a7-49b2-b59e-77b9245b91e9",
   "metadata": {},
   "outputs": [],
   "source": [
    "def error(A_):\n",
    "    s = 0\n",
    "    for i in range(len(A_)):\n",
    "        for j in range(i+1, len(A_)):\n",
    "            if i < j:\n",
    "                s += math.pow(A_[i][j], 2)\n",
    "    return s**0.5"
   ]
  },
  {
   "cell_type": "code",
   "execution_count": 5,
   "id": "f46a9f86-901c-4a2b-bc7d-a2961f2604a7",
   "metadata": {},
   "outputs": [],
   "source": [
    "def prois(U, L, D=None):\n",
    "    if (len(U[0]) == len(L)):\n",
    "        R = [[sum([U[i][k] * L[k][j] for k in range(len(U[i]))]) for j in range(len(L[0]))] for i in range(len(U))]\n",
    "        if D != None:\n",
    "            return prois(R,D)\n",
    "        return R\n",
    "    else:\n",
    "        print('err in Mult')\n",
    "        exit()"
   ]
  },
  {
   "cell_type": "code",
   "execution_count": 6,
   "id": "5256e7d3-fb2b-4c9b-8916-e94f4a250f6d",
   "metadata": {},
   "outputs": [],
   "source": [
    "def transpose(A):\n",
    "    return [[row[i] for row in A] for i in range(len(A[0]))]"
   ]
  },
  {
   "cell_type": "code",
   "execution_count": 7,
   "id": "6cd18c70-6840-4c6b-b41c-fb345b3a9b5f",
   "metadata": {},
   "outputs": [],
   "source": [
    "def rotate_matrix(A,s,c,i,j):\n",
    "    res = [[0 for l in range(A)] for k in range(A)]\n",
    "    for k in range(A):\n",
    "        res[k][k] = 1\n",
    "    res[i][i] = c\n",
    "    res[i][j] = -s\n",
    "    res[j][i] = s\n",
    "    res[j][j] = c\n",
    "    return res"
   ]
  },
  {
   "cell_type": "code",
   "execution_count": 8,
   "id": "c4bc544e-a4a5-4ca7-a588-a33f77ef55ef",
   "metadata": {},
   "outputs": [],
   "source": [
    "def jacobi(A):\n",
    "    err = 0.1\n",
    "    U = None\n",
    "    while True:\n",
    "        i, j = find_max(A)\n",
    "        P = math.pi / 4\n",
    "        if A[i][i] - A[j][j] != 0:\n",
    "            P = 2 * A[i][j] / (A[i][i] - A[j][j])\n",
    "        c = math.cos(math.atan(P) / 2)\n",
    "        s = math.sin(math.atan(P) / 2)\n",
    "        rotate = rotate_matrix(len(A),s,c,i,j)\n",
    "        if U == None:\n",
    "            U = copy.deepcopy(rotate)\n",
    "        else:\n",
    "            U = prois(U, rotate)\n",
    "        A = prois(prois(transpose(rotate),A),rotate)\n",
    "        er = error(A)\n",
    "        if er < err:\n",
    "            break\n",
    "    res = []\n",
    "    for i in range(len(A)):\n",
    "        vec = [U[j][i] for j in range(len(A))]\n",
    "        vecs = sum([x**2 for x in vec])**0.5\n",
    "        if vecs != 0:\n",
    "            vec = [x / vecs for x in vec]\n",
    "        res.append([A[i][i],vec])\n",
    "    return res"
   ]
  },
  {
   "cell_type": "code",
   "execution_count": 9,
   "id": "d7388454-4eb1-4465-89ab-8a9f26e21179",
   "metadata": {},
   "outputs": [],
   "source": [
    "def SVD(A, cut=0):\n",
    "    A1res = sorted(jacobi(prois(transpose(A),A)))[::-1]\n",
    "    right = [[A1res[i][1][j] for j in range(len(A1res))] for i in range(len(A1res))]\n",
    "    \n",
    "    A2res = sorted(jacobi(prois(A,transpose(A))))[::-1]\n",
    "    left = [[A2res[j][1][i] for j in range(len(A2res))] for i in range(len(A2res))]\n",
    "    \n",
    "#     center = copy.deepcopy(A)\n",
    "    center = [[0 for j in range(len(A[i]))] for i in range(len(A))]\n",
    "    for i in range(min(len(A),len(A[0]))):\n",
    "        center[i][i] = A1res[i][0]**0.5\n",
    "    if cut != 0 and cut < 100:\n",
    "        f_vert = max(math.floor(len(center) * (100 - cut) / 100),1)\n",
    "        f_hor = max(math.floor(len(center[0]) * (100 - cut) / 100),1)\n",
    "        left = [[left[i][j] for j in range(f_vert)] for i in range(len(left))]\n",
    "        right = [[right[i][j] for j in range(len(right[0]))] for i in range(f_hor)]\n",
    "        center = [[center[i][j] for j in range(f_hor)] for i in range(f_vert)]\n",
    "        return left, center, right\n",
    "    else:\n",
    "        return left, center, right"
   ]
  },
  {
   "cell_type": "code",
   "execution_count": 10,
   "id": "ef9b0338-5d9b-4b3c-81bc-d0670e460025",
   "metadata": {},
   "outputs": [
    {
     "data": {
      "text/plain": [
       "[[1, 0, 0, 0, 2], [0, 0, 3, 0, 0], [0, 0, 0, 0, 0], [0, 4, 0, 0, 0]]"
      ]
     },
     "execution_count": 10,
     "metadata": {},
     "output_type": "execute_result"
    }
   ],
   "source": [
    "A = [[1,0,0,0,2],\n",
    "     [0,0,3,0,0],\n",
    "     [0,0,0,0,0],\n",
    "     [0,4,0,0,0]]\n",
    "\n",
    "# A = [[2,6,5,2],[5,3,0,1],[-4,0,-5,10]]\n",
    "\n",
    "# A = [[4,2,1],[2,5,3],[1,3,6]]\n",
    "\n",
    "# A = [[2,6],[5,3],[-4,0]]\n",
    "\n",
    "A"
   ]
  },
  {
   "cell_type": "code",
   "execution_count": 11,
   "id": "1226844b-186e-480e-b4bd-92032684077c",
   "metadata": {},
   "outputs": [],
   "source": [
    "L,C,R = SVD(A,50)"
   ]
  },
  {
   "cell_type": "code",
   "execution_count": 12,
   "id": "21193510-ecc6-4508-a435-7968fb91a5de",
   "metadata": {},
   "outputs": [
    {
     "data": {
      "text/plain": [
       "array([[0., 0.],\n",
       "       [0., 1.],\n",
       "       [0., 0.],\n",
       "       [1., 0.]])"
      ]
     },
     "execution_count": 12,
     "metadata": {},
     "output_type": "execute_result"
    }
   ],
   "source": [
    "np.array(L)"
   ]
  },
  {
   "cell_type": "code",
   "execution_count": 13,
   "id": "d4430338-5b2d-478c-89de-6b14c98ad285",
   "metadata": {},
   "outputs": [
    {
     "data": {
      "text/plain": [
       "array([[4., 0.],\n",
       "       [0., 3.]])"
      ]
     },
     "execution_count": 13,
     "metadata": {},
     "output_type": "execute_result"
    }
   ],
   "source": [
    "np.array(C)"
   ]
  },
  {
   "cell_type": "code",
   "execution_count": 14,
   "id": "67524b2c-02f9-4e35-b9be-73cea8722425",
   "metadata": {},
   "outputs": [
    {
     "data": {
      "text/plain": [
       "array([[0., 1., 0., 0., 0.],\n",
       "       [0., 0., 1., 0., 0.]])"
      ]
     },
     "execution_count": 14,
     "metadata": {},
     "output_type": "execute_result"
    }
   ],
   "source": [
    "np.array(R)"
   ]
  },
  {
   "cell_type": "code",
   "execution_count": 15,
   "id": "06884914-0354-4a9f-ae1a-6fbd3414aa6a",
   "metadata": {},
   "outputs": [
    {
     "data": {
      "text/plain": [
       "[[0.0, 0.0, 0.0, 0.0, 0.0],\n",
       " [0.0, 0.0, 3.0, 0.0, 0.0],\n",
       " [0.0, 0.0, 0.0, 0.0, 0.0],\n",
       " [0.0, 4.0, 0.0, 0.0, 0.0]]"
      ]
     },
     "execution_count": 15,
     "metadata": {},
     "output_type": "execute_result"
    }
   ],
   "source": [
    "prois(L,C,R)"
   ]
  },
  {
   "cell_type": "code",
   "execution_count": null,
   "id": "985e6449-f3a6-4c45-b5ab-809d3e17236e",
   "metadata": {},
   "outputs": [],
   "source": []
  }
 ],
 "metadata": {
  "kernelspec": {
   "display_name": "Python 3 (ipykernel)",
   "language": "python",
   "name": "python3"
  },
  "language_info": {
   "codemirror_mode": {
    "name": "ipython",
    "version": 3
   },
   "file_extension": ".py",
   "mimetype": "text/x-python",
   "name": "python",
   "nbconvert_exporter": "python",
   "pygments_lexer": "ipython3",
   "version": "3.9.1"
  }
 },
 "nbformat": 4,
 "nbformat_minor": 5
}
