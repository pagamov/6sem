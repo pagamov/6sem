{
 "cells": [
  {
   "cell_type": "code",
   "execution_count": 2,
   "id": "31ce4f06-c875-43c8-8720-51decdde2ca6",
   "metadata": {},
   "outputs": [],
   "source": [
    "from math import pi, tan, sin, pow, sqrt\n",
    "import numpy as np\n",
    "import matplotlib.pyplot as plt\n",
    "import copy"
   ]
  },
  {
   "cell_type": "code",
   "execution_count": 3,
   "id": "ca501d9e-2b9a-4a7e-959b-3e3a35c0e210",
   "metadata": {},
   "outputs": [],
   "source": [
    "x_star = 2.666667\n",
    "\n",
    "x = [1,1.9,2.8,3.7,4.6,5.5]\n",
    "y = [2.4142,1.0818,0.50953,0.11836,-0.24008,-0.66818]\n",
    "\n",
    "# x = [0,1,2,3,4,5,6,7,8,9,10]\n",
    "# y = [0,1,-1,2,-2,3,-3,4,-4,5,-5]"
   ]
  },
  {
   "cell_type": "code",
   "execution_count": 4,
   "id": "9c6a736f-da45-4060-bdb0-3f06bc1b02a6",
   "metadata": {},
   "outputs": [],
   "source": [
    "def make_spline_matrix(x, y, n, err=10**-5, text=False):\n",
    "    # сделаем матрицу коэф а размерности n+1\n",
    "    A, b, n = [], [], n+1\n",
    "    for i in range(n):\n",
    "        r = []\n",
    "        for j in range(n):\n",
    "            if i == 0 and j == 0:\n",
    "                r.append(len(x))\n",
    "            else:\n",
    "                r.append(sum(map(lambda a: pow(a,i+j),x)))\n",
    "        A.append(r)\n",
    "        b.append(sum(map(lambda a,b: pow(a,i) * b,x,y)))\n",
    "    if text:\n",
    "        print('Matrix A and b')\n",
    "        for i in range(len(A)):\n",
    "            for j in range(len(A[i])):\n",
    "                print('{:.2f}'.format(A[i][j]), end='  ')\n",
    "            print('['+'{:.2f}'.format(b[i])+']')\n",
    "    # Теперь имея матрицу и правую часть решим ее зейделем с точностью err\n",
    "    a_,a = [None] * len(A),[0] * len(A)\n",
    "    while True:\n",
    "        for i in range(len(A)):\n",
    "            s = 0\n",
    "            for j in range(len(A)):\n",
    "                if j < i:\n",
    "                    s += A[i][j] * a_[j]\n",
    "                elif i != j:\n",
    "                    s += A[i][j] * a[j]\n",
    "            a_[i] = (b[i] - s) / A[i][i]\n",
    "        if sqrt(sum(map(lambda a,b: pow(a - b,2),a,a_))) < err:\n",
    "            break\n",
    "        a = copy.copy(a_)\n",
    "    if text:\n",
    "        print('f(x) = ', float('{:.4f}'.format(a_[0])), end='')\n",
    "        for i in range(1, len(a_)):\n",
    "            print(' +', str(float('{:.4f}'.format(a_[i]))) + '*x^' + str(i),end='')\n",
    "        print()\n",
    "    # теперь сделаем итоговые координаты\n",
    "    resx,resy = [],[]\n",
    "    start = x[0]\n",
    "    while start < x[-1]:\n",
    "        resx.append(start)\n",
    "        resy.append(sum([a_[j] * pow(start, j) for j in range(len(a_))]))\n",
    "        start += 0.1 # сделать другой step\n",
    "    # вычислим квадрат ошибок\n",
    "    # if text:\n",
    "    yy = [sum([a_[j] * pow(num, j) for j in range(len(a_))]) for num in x]\n",
    "    print('n =', n-1, 'error =', sqrt(sum(list(map(lambda a, b: pow(a - b,2), yy, y)))))\n",
    "    return resx, resy"
   ]
  },
  {
   "cell_type": "code",
   "execution_count": 5,
   "id": "292cd15b-b97c-479c-871d-be52be5f935f",
   "metadata": {},
   "outputs": [
    {
     "name": "stdout",
     "output_type": "stream",
     "text": [
      "n = 1 error = 0.685654514195075\n",
      "n = 2 error = 0.3548991042709896\n",
      "n = 3 error = 0.0934652842385825\n"
     ]
    }
   ],
   "source": [
    "x_1, y_1 = make_spline_matrix(x, y, 1)\n",
    "x_2, y_2 = make_spline_matrix(x, y, 2)\n",
    "x_3, y_3 = make_spline_matrix(x, y, 3)"
   ]
  },
  {
   "cell_type": "code",
   "execution_count": 6,
   "id": "ed485699-4bf4-42c9-ac26-8211e4beca24",
   "metadata": {},
   "outputs": [
    {
     "data": {
      "image/png": "[encoded data removed]",
      "text/plain": [
       "<Figure size 432x288 with 1 Axes>"
      ]
     },
     "metadata": {
      "needs_background": "light"
     },
     "output_type": "display_data"
    }
   ],
   "source": [
    "plt.plot(x, y, label='main')\n",
    "plt.plot(x_1, y_1, label='spline 1')\n",
    "plt.plot(x_2, y_2, label='spline 2')\n",
    "plt.plot(x_3, y_3, label='spline 3')\n",
    "plt.legend()\n",
    "plt.grid()"
   ]
  },
  {
   "cell_type": "code",
   "execution_count": null,
   "id": "fdbb5c17-0547-4f2f-884d-45de48ab504e",
   "metadata": {},
   "outputs": [],
   "source": []
  }
 ],
 "metadata": {
  "kernelspec": {
   "display_name": "Python 3 (ipykernel)",
   "language": "python",
   "name": "python3"
  },
  "language_info": {
   "codemirror_mode": {
    "name": "ipython",
    "version": 3
   },
   "file_extension": ".py",
   "mimetype": "text/x-python",
   "name": "python",
   "nbconvert_exporter": "python",
   "pygments_lexer": "ipython3",
   "version": "3.7.2rc1"
  }
 },
 "nbformat": 4,
 "nbformat_minor": 5
}
