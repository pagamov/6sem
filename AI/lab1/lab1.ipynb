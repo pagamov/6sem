{
 "cells": [
  {
   "cell_type": "code",
   "execution_count": 1,
   "id": "ac5f115f-b713-42f2-8d7a-39c8a577c409",
   "metadata": {},
   "outputs": [],
   "source": [
    "import matplotlib.pyplot as plt\n",
    "import numpy as np\n",
    "import pandas as pd\n",
    "from sklearn.model_selection import train_test_split\n",
    "import pprint\n",
    "from sklearn.neighbors import KNeighborsClassifier\n",
    "from sklearn import naive_bayes"
   ]
  },
  {
   "cell_type": "code",
   "execution_count": 16,
   "id": "c7da8e17-df66-4e09-a78c-3e82e3cec8b0",
   "metadata": {},
   "outputs": [
    {
     "data": {
      "text/html": [
       "<div>\n",
       "<style scoped>\n",
       "    .dataframe tbody tr th:only-of-type {\n",
       "        vertical-align: middle;\n",
       "    }\n",
       "\n",
       "    .dataframe tbody tr th {\n",
       "        vertical-align: top;\n",
       "    }\n",
       "\n",
       "    .dataframe thead th {\n",
       "        text-align: right;\n",
       "    }\n",
       "</style>\n",
       "<table border=\"1\" class=\"dataframe\">\n",
       "  <thead>\n",
       "    <tr style=\"text-align: right;\">\n",
       "      <th></th>\n",
       "      <th>2016 ICT Losses by Home Office</th>\n",
       "      <th>Unnamed: 1</th>\n",
       "      <th>Unnamed: 2</th>\n",
       "      <th>Unnamed: 3</th>\n",
       "      <th>Unnamed: 4</th>\n",
       "      <th>Unnamed: 5</th>\n",
       "    </tr>\n",
       "  </thead>\n",
       "  <tbody>\n",
       "    <tr>\n",
       "      <th>0</th>\n",
       "      <td>NaN</td>\n",
       "      <td>Home Office</td>\n",
       "      <td>NaN</td>\n",
       "      <td>NaN</td>\n",
       "      <td>NaN</td>\n",
       "      <td>NaN</td>\n",
       "    </tr>\n",
       "    <tr>\n",
       "      <th>1</th>\n",
       "      <td>Device / Incident</td>\n",
       "      <td>NaN</td>\n",
       "      <td>NaN</td>\n",
       "      <td>NaN</td>\n",
       "      <td>NaN</td>\n",
       "      <td>NaN</td>\n",
       "    </tr>\n",
       "    <tr>\n",
       "      <th>2</th>\n",
       "      <td>Lost Blackberries / Mobile Phones</td>\n",
       "      <td>14</td>\n",
       "      <td>13.0</td>\n",
       "      <td>27.0</td>\n",
       "      <td>19.0</td>\n",
       "      <td>73.0</td>\n",
       "    </tr>\n",
       "    <tr>\n",
       "      <th>3</th>\n",
       "      <td>Stolen Blackberries / Mobile Phones</td>\n",
       "      <td>2</td>\n",
       "      <td>1.0</td>\n",
       "      <td>9.0</td>\n",
       "      <td>1.0</td>\n",
       "      <td>13.0</td>\n",
       "    </tr>\n",
       "    <tr>\n",
       "      <th>4</th>\n",
       "      <td>Lost Laptops</td>\n",
       "      <td>2</td>\n",
       "      <td>2.0</td>\n",
       "      <td>3.0</td>\n",
       "      <td>3.0</td>\n",
       "      <td>10.0</td>\n",
       "    </tr>\n",
       "  </tbody>\n",
       "</table>\n",
       "</div>"
      ],
      "text/plain": [
       "       2016 ICT Losses by Home Office     Unnamed: 1  Unnamed: 2  Unnamed: 3  \\\n",
       "0                                  NaN  Home Office          NaN         NaN   \n",
       "1                    Device / Incident           NaN         NaN         NaN   \n",
       "2    Lost Blackberries / Mobile Phones            14        13.0        27.0   \n",
       "3  Stolen Blackberries / Mobile Phones             2         1.0         9.0   \n",
       "4                         Lost Laptops             2         2.0         3.0   \n",
       "\n",
       "   Unnamed: 4  Unnamed: 5  \n",
       "0         NaN         NaN  \n",
       "1         NaN         NaN  \n",
       "2        19.0        73.0  \n",
       "3         1.0        13.0  \n",
       "4         3.0        10.0  "
      ]
     },
     "execution_count": 16,
     "metadata": {},
     "output_type": "execute_result"
    }
   ],
   "source": [
    "data = pd.read_csv(\"2016_HO_ICT_stats.csv\", encoding=\"UTF-8\")\n",
    "data.head(5)"
   ]
  },
  {
   "cell_type": "code",
   "execution_count": 17,
   "id": "ed21938f-5806-4cff-a892-57184d2fb781",
   "metadata": {},
   "outputs": [
    {
     "data": {
      "text/plain": [
       "(23, 6)"
      ]
     },
     "execution_count": 17,
     "metadata": {},
     "output_type": "execute_result"
    }
   ],
   "source": [
    "data.shape"
   ]
  },
  {
   "cell_type": "code",
   "execution_count": 8,
   "id": "82a70d31-2520-4a27-9ef4-d847faf618b8",
   "metadata": {},
   "outputs": [],
   "source": [
    "import pandas as pd\n",
    "import random\n",
    "random.seed(0)"
   ]
  },
  {
   "cell_type": "code",
   "execution_count": 39,
   "id": "c3d9a2b7-aa5b-4917-b8ea-c7cab6c9b8f5",
   "metadata": {},
   "outputs": [],
   "source": [
    "city = ['Moscow', 'Saint Petersburg', 'Novosibirsk','Yekaterinburg','Kazan','Chelyabinsk','Samara']\n",
    "color = ['red','grey','blue','black','white'] * 5 + [None]\n",
    "doors = ['2','4','4','4','5+'] * 5 + [None]\n",
    "prise = ['150-200k','200-300k','300-500k','500-700k','700-1000k','1000-2000k','2000k+'] * 5 + [None]\n",
    "daytime = ['morning', 'afternoon','evening','night','night'] * 5 + [None]\n",
    "neighborhood = ['good','bad','bad','mixed'] * 5 + [None]\n",
    "car_age = ['1','2','3','4','5+'] * 5 + [None]\n",
    "found = ['found','not found', 'attempt']"
   ]
  },
  {
   "cell_type": "code",
   "execution_count": 40,
   "id": "4a2a9d4d-e354-4e24-888a-18c8ee5902af",
   "metadata": {},
   "outputs": [],
   "source": [
    "N = 7942\n",
    "\n",
    "data = {\n",
    "    'city':[random.choice(city) for i in range(N)], \n",
    "    'color':[random.choice(color) for i in range(N)],\n",
    "    'doors':[random.choice(doors) for i in range(N)],\n",
    "    'prise':[random.choice(prise) for i in range(N)],\n",
    "    'daytime':[random.choice(daytime) for i in range(N)],\n",
    "    'neighborhood':[random.choice(neighborhood) for i in range(N)],\n",
    "    'car_age':[random.choice(car_age) for i in range(N)],\n",
    "    'found':[random.choice(found) for i in range(N)],\n",
    "}\n"
   ]
  },
  {
   "cell_type": "code",
   "execution_count": null,
   "id": "ebc504aa-f902-4d52-8b60-9016209e64a4",
   "metadata": {},
   "outputs": [],
   "source": []
  },
  {
   "cell_type": "code",
   "execution_count": 41,
   "id": "465b665a-e027-4593-a4e6-24229494feb7",
   "metadata": {},
   "outputs": [
    {
     "data": {
      "text/html": [
       "<div>\n",
       "<style scoped>\n",
       "    .dataframe tbody tr th:only-of-type {\n",
       "        vertical-align: middle;\n",
       "    }\n",
       "\n",
       "    .dataframe tbody tr th {\n",
       "        vertical-align: top;\n",
       "    }\n",
       "\n",
       "    .dataframe thead th {\n",
       "        text-align: right;\n",
       "    }\n",
       "</style>\n",
       "<table border=\"1\" class=\"dataframe\">\n",
       "  <thead>\n",
       "    <tr style=\"text-align: right;\">\n",
       "      <th></th>\n",
       "      <th>city</th>\n",
       "      <th>color</th>\n",
       "      <th>doors</th>\n",
       "      <th>prise</th>\n",
       "      <th>daytime</th>\n",
       "      <th>neighborhood</th>\n",
       "      <th>car_age</th>\n",
       "      <th>found</th>\n",
       "    </tr>\n",
       "  </thead>\n",
       "  <tbody>\n",
       "    <tr>\n",
       "      <th>0</th>\n",
       "      <td>Chelyabinsk</td>\n",
       "      <td>grey</td>\n",
       "      <td>2</td>\n",
       "      <td>1000-2000k</td>\n",
       "      <td>evening</td>\n",
       "      <td>mixed</td>\n",
       "      <td>2</td>\n",
       "      <td>found</td>\n",
       "    </tr>\n",
       "    <tr>\n",
       "      <th>1</th>\n",
       "      <td>Yekaterinburg</td>\n",
       "      <td>red</td>\n",
       "      <td>4</td>\n",
       "      <td>200-300k</td>\n",
       "      <td>None</td>\n",
       "      <td>bad</td>\n",
       "      <td>4</td>\n",
       "      <td>attempt</td>\n",
       "    </tr>\n",
       "    <tr>\n",
       "      <th>2</th>\n",
       "      <td>Kazan</td>\n",
       "      <td>red</td>\n",
       "      <td>4</td>\n",
       "      <td>150-200k</td>\n",
       "      <td>night</td>\n",
       "      <td>mixed</td>\n",
       "      <td>3</td>\n",
       "      <td>found</td>\n",
       "    </tr>\n",
       "    <tr>\n",
       "      <th>3</th>\n",
       "      <td>Samara</td>\n",
       "      <td>white</td>\n",
       "      <td>2</td>\n",
       "      <td>700-1000k</td>\n",
       "      <td>evening</td>\n",
       "      <td>good</td>\n",
       "      <td>4</td>\n",
       "      <td>found</td>\n",
       "    </tr>\n",
       "    <tr>\n",
       "      <th>4</th>\n",
       "      <td>Moscow</td>\n",
       "      <td>red</td>\n",
       "      <td>4</td>\n",
       "      <td>2000k+</td>\n",
       "      <td>night</td>\n",
       "      <td>bad</td>\n",
       "      <td>1</td>\n",
       "      <td>not found</td>\n",
       "    </tr>\n",
       "  </tbody>\n",
       "</table>\n",
       "</div>"
      ],
      "text/plain": [
       "            city  color doors       prise  daytime neighborhood car_age  \\\n",
       "0    Chelyabinsk   grey     2  1000-2000k  evening        mixed       2   \n",
       "1  Yekaterinburg    red     4    200-300k     None          bad       4   \n",
       "2          Kazan    red     4    150-200k    night        mixed       3   \n",
       "3         Samara  white     2   700-1000k  evening         good       4   \n",
       "4         Moscow    red     4      2000k+    night          bad       1   \n",
       "\n",
       "       found  \n",
       "0      found  \n",
       "1    attempt  \n",
       "2      found  \n",
       "3      found  \n",
       "4  not found  "
      ]
     },
     "execution_count": 41,
     "metadata": {},
     "output_type": "execute_result"
    }
   ],
   "source": [
    "df = pd.DataFrame(data)\n",
    "df.head(5)"
   ]
  },
  {
   "cell_type": "code",
   "execution_count": 42,
   "id": "25509c05-3dfd-4c2c-96a6-90062e523115",
   "metadata": {},
   "outputs": [
    {
     "data": {
      "text/html": [
       "<div>\n",
       "<style scoped>\n",
       "    .dataframe tbody tr th:only-of-type {\n",
       "        vertical-align: middle;\n",
       "    }\n",
       "\n",
       "    .dataframe tbody tr th {\n",
       "        vertical-align: top;\n",
       "    }\n",
       "\n",
       "    .dataframe thead th {\n",
       "        text-align: right;\n",
       "    }\n",
       "</style>\n",
       "<table border=\"1\" class=\"dataframe\">\n",
       "  <thead>\n",
       "    <tr style=\"text-align: right;\">\n",
       "      <th></th>\n",
       "      <th>city</th>\n",
       "      <th>color</th>\n",
       "      <th>doors</th>\n",
       "      <th>prise</th>\n",
       "      <th>daytime</th>\n",
       "      <th>neighborhood</th>\n",
       "      <th>car_age</th>\n",
       "      <th>found</th>\n",
       "    </tr>\n",
       "  </thead>\n",
       "  <tbody>\n",
       "    <tr>\n",
       "      <th>count</th>\n",
       "      <td>7942</td>\n",
       "      <td>7637</td>\n",
       "      <td>7622</td>\n",
       "      <td>7706</td>\n",
       "      <td>7644</td>\n",
       "      <td>7575</td>\n",
       "      <td>7661</td>\n",
       "      <td>7942</td>\n",
       "    </tr>\n",
       "    <tr>\n",
       "      <th>unique</th>\n",
       "      <td>7</td>\n",
       "      <td>5</td>\n",
       "      <td>3</td>\n",
       "      <td>7</td>\n",
       "      <td>4</td>\n",
       "      <td>3</td>\n",
       "      <td>5</td>\n",
       "      <td>3</td>\n",
       "    </tr>\n",
       "    <tr>\n",
       "      <th>top</th>\n",
       "      <td>Novosibirsk</td>\n",
       "      <td>white</td>\n",
       "      <td>4</td>\n",
       "      <td>700-1000k</td>\n",
       "      <td>night</td>\n",
       "      <td>bad</td>\n",
       "      <td>2</td>\n",
       "      <td>attempt</td>\n",
       "    </tr>\n",
       "    <tr>\n",
       "      <th>freq</th>\n",
       "      <td>1191</td>\n",
       "      <td>1578</td>\n",
       "      <td>4449</td>\n",
       "      <td>1143</td>\n",
       "      <td>3069</td>\n",
       "      <td>3787</td>\n",
       "      <td>1569</td>\n",
       "      <td>2686</td>\n",
       "    </tr>\n",
       "  </tbody>\n",
       "</table>\n",
       "</div>"
      ],
      "text/plain": [
       "               city  color doors      prise daytime neighborhood car_age  \\\n",
       "count          7942   7637  7622       7706    7644         7575    7661   \n",
       "unique            7      5     3          7       4            3       5   \n",
       "top     Novosibirsk  white     4  700-1000k   night          bad       2   \n",
       "freq           1191   1578  4449       1143    3069         3787    1569   \n",
       "\n",
       "          found  \n",
       "count      7942  \n",
       "unique        3  \n",
       "top     attempt  \n",
       "freq       2686  "
      ]
     },
     "execution_count": 42,
     "metadata": {},
     "output_type": "execute_result"
    }
   ],
   "source": [
    "df.describe()"
   ]
  },
  {
   "cell_type": "code",
   "execution_count": 26,
   "id": "c37f49b7-5dad-4a82-9e19-0cc701e57d48",
   "metadata": {},
   "outputs": [
    {
     "data": {
      "text/html": [
       "<div>\n",
       "<style scoped>\n",
       "    .dataframe tbody tr th:only-of-type {\n",
       "        vertical-align: middle;\n",
       "    }\n",
       "\n",
       "    .dataframe tbody tr th {\n",
       "        vertical-align: top;\n",
       "    }\n",
       "\n",
       "    .dataframe thead th {\n",
       "        text-align: right;\n",
       "    }\n",
       "</style>\n",
       "<table border=\"1\" class=\"dataframe\">\n",
       "  <thead>\n",
       "    <tr style=\"text-align: right;\">\n",
       "      <th></th>\n",
       "    </tr>\n",
       "  </thead>\n",
       "  <tbody>\n",
       "  </tbody>\n",
       "</table>\n",
       "</div>"
      ],
      "text/plain": [
       "Empty DataFrame\n",
       "Columns: []\n",
       "Index: []"
      ]
     },
     "execution_count": 26,
     "metadata": {},
     "output_type": "execute_result"
    }
   ],
   "source": [
    "df.corr()"
   ]
  },
  {
   "cell_type": "code",
   "execution_count": 29,
   "id": "04026c10-4bf4-49a1-9430-8530c24d89a9",
   "metadata": {},
   "outputs": [
    {
     "ename": "ValueError",
     "evalue": "hist method requires numerical or datetime columns, nothing to plot.",
     "output_type": "error",
     "traceback": [
      "\u001b[1;31m---------------------------------------------------------------------------\u001b[0m",
      "\u001b[1;31mValueError\u001b[0m                                Traceback (most recent call last)",
      "\u001b[1;32m~\\AppData\\Local\\Temp/ipykernel_14796/376790471.py\u001b[0m in \u001b[0;36m<module>\u001b[1;34m\u001b[0m\n\u001b[1;32m----> 1\u001b[1;33m \u001b[0mdf\u001b[0m\u001b[1;33m.\u001b[0m\u001b[0mhist\u001b[0m\u001b[1;33m(\u001b[0m\u001b[0mfigsize\u001b[0m\u001b[1;33m=\u001b[0m\u001b[1;33m(\u001b[0m\u001b[1;36m20\u001b[0m\u001b[1;33m,\u001b[0m \u001b[1;36m15\u001b[0m\u001b[1;33m)\u001b[0m\u001b[1;33m)\u001b[0m\u001b[1;33m\u001b[0m\u001b[1;33m\u001b[0m\u001b[0m\n\u001b[0m",
      "\u001b[1;32mc:\\python372\\lib\\site-packages\\pandas\\plotting\\_core.py\u001b[0m in \u001b[0;36mhist_frame\u001b[1;34m(data, column, by, grid, xlabelsize, xrot, ylabelsize, yrot, ax, sharex, sharey, figsize, layout, bins, backend, legend, **kwargs)\u001b[0m\n\u001b[0;32m    240\u001b[0m         \u001b[0mlegend\u001b[0m\u001b[1;33m=\u001b[0m\u001b[0mlegend\u001b[0m\u001b[1;33m,\u001b[0m\u001b[1;33m\u001b[0m\u001b[1;33m\u001b[0m\u001b[0m\n\u001b[0;32m    241\u001b[0m         \u001b[0mbins\u001b[0m\u001b[1;33m=\u001b[0m\u001b[0mbins\u001b[0m\u001b[1;33m,\u001b[0m\u001b[1;33m\u001b[0m\u001b[1;33m\u001b[0m\u001b[0m\n\u001b[1;32m--> 242\u001b[1;33m         \u001b[1;33m**\u001b[0m\u001b[0mkwargs\u001b[0m\u001b[1;33m,\u001b[0m\u001b[1;33m\u001b[0m\u001b[1;33m\u001b[0m\u001b[0m\n\u001b[0m\u001b[0;32m    243\u001b[0m     )\n\u001b[0;32m    244\u001b[0m \u001b[1;33m\u001b[0m\u001b[0m\n",
      "\u001b[1;32mc:\\python372\\lib\\site-packages\\pandas\\plotting\\_matplotlib\\hist.py\u001b[0m in \u001b[0;36mhist_frame\u001b[1;34m(data, column, by, grid, xlabelsize, xrot, ylabelsize, yrot, ax, sharex, sharey, figsize, layout, bins, legend, **kwds)\u001b[0m\n\u001b[0;32m    442\u001b[0m     \u001b[1;32mif\u001b[0m \u001b[0mnaxes\u001b[0m \u001b[1;33m==\u001b[0m \u001b[1;36m0\u001b[0m\u001b[1;33m:\u001b[0m\u001b[1;33m\u001b[0m\u001b[1;33m\u001b[0m\u001b[0m\n\u001b[0;32m    443\u001b[0m         raise ValueError(\n\u001b[1;32m--> 444\u001b[1;33m             \u001b[1;34m\"hist method requires numerical or datetime columns, nothing to plot.\"\u001b[0m\u001b[1;33m\u001b[0m\u001b[1;33m\u001b[0m\u001b[0m\n\u001b[0m\u001b[0;32m    445\u001b[0m         )\n\u001b[0;32m    446\u001b[0m \u001b[1;33m\u001b[0m\u001b[0m\n",
      "\u001b[1;31mValueError\u001b[0m: hist method requires numerical or datetime columns, nothing to plot."
     ]
    }
   ],
   "source": [
    "df.hist(figsize=(20, 15))"
   ]
  },
  {
   "cell_type": "code",
   "execution_count": 27,
   "id": "86ef0e7f-f0e4-4563-91f1-80a12d9d2f5a",
   "metadata": {},
   "outputs": [
    {
     "data": {
      "text/plain": [
       "(6000, 8)"
      ]
     },
     "execution_count": 27,
     "metadata": {},
     "output_type": "execute_result"
    }
   ],
   "source": [
    "df.shape"
   ]
  },
  {
   "cell_type": "code",
   "execution_count": 28,
   "id": "b1a1e9a6-be25-4bee-ac22-d366f4b22df2",
   "metadata": {},
   "outputs": [],
   "source": [
    "df.to_csv('stolen-cars.csv', sep='\\t', encoding='utf-8')"
   ]
  },
  {
   "cell_type": "code",
   "execution_count": null,
   "id": "17392045-d84c-4f44-9f4e-3c80c385d874",
   "metadata": {},
   "outputs": [],
   "source": []
  }
 ],
 "metadata": {
  "kernelspec": {
   "display_name": "Python 3 (ipykernel)",
   "language": "python",
   "name": "python3"
  },
  "language_info": {
   "codemirror_mode": {
    "name": "ipython",
    "version": 3
   },
   "file_extension": ".py",
   "mimetype": "text/x-python",
   "name": "python",
   "nbconvert_exporter": "python",
   "pygments_lexer": "ipython3",
   "version": "3.7.2rc1"
  }
 },
 "nbformat": 4,
 "nbformat_minor": 5
}
