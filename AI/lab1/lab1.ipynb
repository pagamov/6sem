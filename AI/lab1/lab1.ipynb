{
 "cells": [
  {
   "cell_type": "code",
   "execution_count": 1,
   "id": "ac5f115f-b713-42f2-8d7a-39c8a577c409",
   "metadata": {},
   "outputs": [],
   "source": [
    "import matplotlib.pyplot as plt\n",
    "import numpy as np\n",
    "import pandas as pd\n",
    "from sklearn.model_selection import train_test_split\n",
    "import pprint\n",
    "from sklearn.neighbors import KNeighborsClassifier\n",
    "from sklearn.naive_bayes import GaussianNB\n",
    "from sklearn import naive_bayes\n",
    "import seaborn as sns\n",
    "import math"
   ]
  },
  {
   "cell_type": "markdown",
   "id": "4f2e2c74-5db2-4ccb-895c-96d329acf681",
   "metadata": {},
   "source": [
    "Будем использовать данные выживших на Титанике"
   ]
  },
  {
   "cell_type": "code",
   "execution_count": 2,
   "id": "8bc187ad-f6e6-4d87-8032-f5c5d0166a08",
   "metadata": {},
   "outputs": [],
   "source": [
    "d1 = pd.read_csv('titanic_data.csv')\n",
    "d2 = pd.read_csv('titanic_surv.csv')\n",
    "data = pd.concat([d1, d2], axis=1)"
   ]
  },
  {
   "cell_type": "code",
   "execution_count": 3,
   "id": "fe4227c5-02fb-41b3-b972-e8830e64df3d",
   "metadata": {},
   "outputs": [
    {
     "data": {
      "text/html": [
       "<div>\n",
       "<style scoped>\n",
       "    .dataframe tbody tr th:only-of-type {\n",
       "        vertical-align: middle;\n",
       "    }\n",
       "\n",
       "    .dataframe tbody tr th {\n",
       "        vertical-align: top;\n",
       "    }\n",
       "\n",
       "    .dataframe thead th {\n",
       "        text-align: right;\n",
       "    }\n",
       "</style>\n",
       "<table border=\"1\" class=\"dataframe\">\n",
       "  <thead>\n",
       "    <tr style=\"text-align: right;\">\n",
       "      <th></th>\n",
       "      <th>PassengerId</th>\n",
       "      <th>Pclass</th>\n",
       "      <th>Name</th>\n",
       "      <th>Sex</th>\n",
       "      <th>Age</th>\n",
       "      <th>SibSp</th>\n",
       "      <th>Parch</th>\n",
       "      <th>Ticket</th>\n",
       "      <th>Fare</th>\n",
       "      <th>Cabin</th>\n",
       "      <th>Embarked</th>\n",
       "      <th>Survived</th>\n",
       "    </tr>\n",
       "  </thead>\n",
       "  <tbody>\n",
       "    <tr>\n",
       "      <th>0</th>\n",
       "      <td>1</td>\n",
       "      <td>3</td>\n",
       "      <td>Braund, Mr. Owen Harris</td>\n",
       "      <td>male</td>\n",
       "      <td>22.0</td>\n",
       "      <td>1</td>\n",
       "      <td>0</td>\n",
       "      <td>A/5 21171</td>\n",
       "      <td>7.2500</td>\n",
       "      <td>NaN</td>\n",
       "      <td>S</td>\n",
       "      <td>0</td>\n",
       "    </tr>\n",
       "    <tr>\n",
       "      <th>1</th>\n",
       "      <td>2</td>\n",
       "      <td>1</td>\n",
       "      <td>Cumings, Mrs. John Bradley (Florence Briggs Th...</td>\n",
       "      <td>female</td>\n",
       "      <td>38.0</td>\n",
       "      <td>1</td>\n",
       "      <td>0</td>\n",
       "      <td>PC 17599</td>\n",
       "      <td>71.2833</td>\n",
       "      <td>C85</td>\n",
       "      <td>C</td>\n",
       "      <td>1</td>\n",
       "    </tr>\n",
       "    <tr>\n",
       "      <th>2</th>\n",
       "      <td>3</td>\n",
       "      <td>3</td>\n",
       "      <td>Heikkinen, Miss. Laina</td>\n",
       "      <td>female</td>\n",
       "      <td>26.0</td>\n",
       "      <td>0</td>\n",
       "      <td>0</td>\n",
       "      <td>STON/O2. 3101282</td>\n",
       "      <td>7.9250</td>\n",
       "      <td>NaN</td>\n",
       "      <td>S</td>\n",
       "      <td>1</td>\n",
       "    </tr>\n",
       "    <tr>\n",
       "      <th>3</th>\n",
       "      <td>4</td>\n",
       "      <td>1</td>\n",
       "      <td>Futrelle, Mrs. Jacques Heath (Lily May Peel)</td>\n",
       "      <td>female</td>\n",
       "      <td>35.0</td>\n",
       "      <td>1</td>\n",
       "      <td>0</td>\n",
       "      <td>113803</td>\n",
       "      <td>53.1000</td>\n",
       "      <td>C123</td>\n",
       "      <td>S</td>\n",
       "      <td>1</td>\n",
       "    </tr>\n",
       "    <tr>\n",
       "      <th>4</th>\n",
       "      <td>5</td>\n",
       "      <td>3</td>\n",
       "      <td>Allen, Mr. William Henry</td>\n",
       "      <td>male</td>\n",
       "      <td>35.0</td>\n",
       "      <td>0</td>\n",
       "      <td>0</td>\n",
       "      <td>373450</td>\n",
       "      <td>8.0500</td>\n",
       "      <td>NaN</td>\n",
       "      <td>S</td>\n",
       "      <td>0</td>\n",
       "    </tr>\n",
       "  </tbody>\n",
       "</table>\n",
       "</div>"
      ],
      "text/plain": [
       "   PassengerId  Pclass                                               Name  \\\n",
       "0            1       3                            Braund, Mr. Owen Harris   \n",
       "1            2       1  Cumings, Mrs. John Bradley (Florence Briggs Th...   \n",
       "2            3       3                             Heikkinen, Miss. Laina   \n",
       "3            4       1       Futrelle, Mrs. Jacques Heath (Lily May Peel)   \n",
       "4            5       3                           Allen, Mr. William Henry   \n",
       "\n",
       "      Sex   Age  SibSp  Parch            Ticket     Fare Cabin Embarked  \\\n",
       "0    male  22.0      1      0         A/5 21171   7.2500   NaN        S   \n",
       "1  female  38.0      1      0          PC 17599  71.2833   C85        C   \n",
       "2  female  26.0      0      0  STON/O2. 3101282   7.9250   NaN        S   \n",
       "3  female  35.0      1      0            113803  53.1000  C123        S   \n",
       "4    male  35.0      0      0            373450   8.0500   NaN        S   \n",
       "\n",
       "   Survived  \n",
       "0         0  \n",
       "1         1  \n",
       "2         1  \n",
       "3         1  \n",
       "4         0  "
      ]
     },
     "execution_count": 3,
     "metadata": {},
     "output_type": "execute_result"
    }
   ],
   "source": [
    "data.head(5)"
   ]
  },
  {
   "cell_type": "code",
   "execution_count": 4,
   "id": "1f3345f3-d693-4658-8117-575d7be1d6ef",
   "metadata": {},
   "outputs": [
    {
     "data": {
      "text/plain": [
       "(891, 12)"
      ]
     },
     "execution_count": 4,
     "metadata": {},
     "output_type": "execute_result"
    }
   ],
   "source": [
    "data.shape"
   ]
  },
  {
   "cell_type": "code",
   "execution_count": 5,
   "id": "78f7bc69-8c24-403f-97be-c7767981f5ff",
   "metadata": {},
   "outputs": [
    {
     "data": {
      "text/plain": [
       "PassengerId      int64\n",
       "Pclass           int64\n",
       "Name            object\n",
       "Sex             object\n",
       "Age            float64\n",
       "SibSp            int64\n",
       "Parch            int64\n",
       "Ticket          object\n",
       "Fare           float64\n",
       "Cabin           object\n",
       "Embarked        object\n",
       "Survived         int64\n",
       "dtype: object"
      ]
     },
     "execution_count": 5,
     "metadata": {},
     "output_type": "execute_result"
    }
   ],
   "source": [
    "data.dtypes"
   ]
  },
  {
   "cell_type": "markdown",
   "id": "6b30a069-59d1-4fb4-b290-15a4b10e5efd",
   "metadata": {},
   "source": [
    "Проверим сколько у нас данных отсутсвует и будем решать что делать с ними"
   ]
  },
  {
   "cell_type": "code",
   "execution_count": 6,
   "id": "a425205a-999a-43ea-a484-cd23e866def0",
   "metadata": {},
   "outputs": [
    {
     "data": {
      "text/plain": [
       "PassengerId      0\n",
       "Pclass           0\n",
       "Name             0\n",
       "Sex              0\n",
       "Age            177\n",
       "SibSp            0\n",
       "Parch            0\n",
       "Ticket           0\n",
       "Fare             0\n",
       "Cabin          687\n",
       "Embarked         2\n",
       "Survived         0\n",
       "dtype: int64"
      ]
     },
     "execution_count": 6,
     "metadata": {},
     "output_type": "execute_result"
    }
   ],
   "source": [
    "data.isna().sum()"
   ]
  },
  {
   "cell_type": "code",
   "execution_count": 7,
   "id": "a21fec1a-a768-494b-a585-73d8f9cc5ece",
   "metadata": {},
   "outputs": [
    {
     "data": {
      "text/plain": [
       "<AxesSubplot:>"
      ]
     },
     "execution_count": 7,
     "metadata": {},
     "output_type": "execute_result"
    },
    {
     "data": {
      "image/png": "[encoded data removed]",
      "text/plain": [
       "<Figure size 432x288 with 2 Axes>"
      ]
     },
     "metadata": {
      "needs_background": "light"
     },
     "output_type": "display_data"
    }
   ],
   "source": [
    "sns.heatmap(data.isnull())"
   ]
  },
  {
   "cell_type": "markdown",
   "id": "844eda33-a385-4b88-887e-75cd8dc3b395",
   "metadata": {},
   "source": [
    "В столбце Cabin много данных пропущено, поэтому просто убираем его"
   ]
  },
  {
   "cell_type": "code",
   "execution_count": 8,
   "id": "aebce33e-6499-4f24-b85f-d8998e072b30",
   "metadata": {},
   "outputs": [],
   "source": [
    "data = data.drop(columns=['Cabin'])"
   ]
  },
  {
   "cell_type": "markdown",
   "id": "74bb430a-cba4-4235-8eef-f5b59717a2dc",
   "metadata": {},
   "source": [
    "Теперь, основываясь на стандартном отклонении возраста и его среднем значении, заполним пробелы в столбце возраста"
   ]
  },
  {
   "cell_type": "code",
   "execution_count": 9,
   "id": "de602cb6-450e-4b0b-83be-47d443f07189",
   "metadata": {},
   "outputs": [],
   "source": [
    "mean = data['Age'].mean()\n",
    "std = data['Age'].std() # стандартное отклонение\n",
    "number_of_nulls = data['Age'].isnull().sum()\n",
    "random_ages = np.random.randint(mean - std, mean + std, size=number_of_nulls)"
   ]
  },
  {
   "cell_type": "markdown",
   "id": "b02df9ba-ba86-4db2-8555-ac931b288272",
   "metadata": {},
   "source": [
    "Заменяем пропущенные значения сгенерированными числами"
   ]
  },
  {
   "cell_type": "code",
   "execution_count": 10,
   "id": "eaa95d42-23b5-4d7c-8c11-ec8602f6951c",
   "metadata": {},
   "outputs": [],
   "source": [
    "new_ages = data['Age'].copy()\n",
    "new_ages[np.isnan(new_ages)] = random_ages\n",
    "data['Age'] = new_ages"
   ]
  },
  {
   "cell_type": "code",
   "execution_count": 11,
   "id": "73910091-fe7e-4a3f-ae50-0410ee8e4a80",
   "metadata": {},
   "outputs": [
    {
     "data": {
      "text/plain": [
       "<AxesSubplot:>"
      ]
     },
     "execution_count": 11,
     "metadata": {},
     "output_type": "execute_result"
    },
    {
     "data": {
      "image/png": "[encoded data removed]",
      "text/plain": [
       "<Figure size 432x288 with 2 Axes>"
      ]
     },
     "metadata": {
      "needs_background": "light"
     },
     "output_type": "display_data"
    }
   ],
   "source": [
    "sns.heatmap(data.isnull())"
   ]
  },
  {
   "cell_type": "code",
   "execution_count": 12,
   "id": "994fa39a-bba3-42ca-a322-19c703f88b5d",
   "metadata": {},
   "outputs": [
    {
     "data": {
      "text/plain": [
       "PassengerId    0\n",
       "Pclass         0\n",
       "Name           0\n",
       "Sex            0\n",
       "Age            0\n",
       "SibSp          0\n",
       "Parch          0\n",
       "Ticket         0\n",
       "Fare           0\n",
       "Embarked       2\n",
       "Survived       0\n",
       "dtype: int64"
      ]
     },
     "execution_count": 12,
     "metadata": {},
     "output_type": "execute_result"
    }
   ],
   "source": [
    "data.isna().sum()"
   ]
  },
  {
   "cell_type": "markdown",
   "id": "85731b2f-e8d5-407f-b525-00a389b00e9a",
   "metadata": {},
   "source": [
    "Оставшиеся пустые значения просто удалим тк их мало"
   ]
  },
  {
   "cell_type": "code",
   "execution_count": 13,
   "id": "a8cfacb8-c273-46a1-931b-dbe1dbeb6195",
   "metadata": {},
   "outputs": [],
   "source": [
    "data = data[data['Embarked'].notnull()]"
   ]
  },
  {
   "cell_type": "code",
   "execution_count": 14,
   "id": "33e2b956-a23f-4da4-b2e3-66a7bc6a24af",
   "metadata": {},
   "outputs": [
    {
     "data": {
      "text/plain": [
       "PassengerId    0\n",
       "Pclass         0\n",
       "Name           0\n",
       "Sex            0\n",
       "Age            0\n",
       "SibSp          0\n",
       "Parch          0\n",
       "Ticket         0\n",
       "Fare           0\n",
       "Embarked       0\n",
       "Survived       0\n",
       "dtype: int64"
      ]
     },
     "execution_count": 14,
     "metadata": {},
     "output_type": "execute_result"
    }
   ],
   "source": [
    "data.isna().sum()"
   ]
  },
  {
   "cell_type": "markdown",
   "id": "66db9593-33a5-4806-a0d8-b7a73b0aa84d",
   "metadata": {},
   "source": [
    "Признак Name, скорее всего, не будет полезен при предсказании.\n",
    "Удалим имена и ID пассажиров а так же их билет"
   ]
  },
  {
   "cell_type": "code",
   "execution_count": 15,
   "id": "0534cb46-6596-4095-802a-38f5a0860cf9",
   "metadata": {},
   "outputs": [],
   "source": [
    "data = data.drop(columns=['Name', 'PassengerId', 'Ticket'])"
   ]
  },
  {
   "cell_type": "markdown",
   "id": "8f170770-b198-4bd2-87ab-34df40472189",
   "metadata": {},
   "source": [
    "Чем ниже класс тем более вероятность что человек выживет"
   ]
  },
  {
   "cell_type": "code",
   "execution_count": 17,
   "id": "6ed5ed4e-277b-45a8-a9d0-c05dafe2f180",
   "metadata": {},
   "outputs": [
    {
     "data": {
      "text/plain": [
       "<AxesSubplot:xlabel='Pclass', ylabel='Survived'>"
      ]
     },
     "execution_count": 17,
     "metadata": {},
     "output_type": "execute_result"
    },
    {
     "data": {
      "image/png": "[encoded data removed]",
      "text/plain": [
       "<Figure size 432x288 with 1 Axes>"
      ]
     },
     "metadata": {
      "needs_background": "light"
     },
     "output_type": "display_data"
    }
   ],
   "source": [
    "sns.barplot(data=data, x='Pclass', y='Survived')"
   ]
  },
  {
   "cell_type": "markdown",
   "id": "7e75288e-4064-4b9b-8829-f240677bb256",
   "metadata": {},
   "source": [
    "У женщин, в среднем, вероятность выжить была заметно больше, чем у мужчин"
   ]
  },
  {
   "cell_type": "code",
   "execution_count": 18,
   "id": "f5bd031b-7efc-4b8f-8552-0db0c7bbaab6",
   "metadata": {},
   "outputs": [
    {
     "data": {
      "text/plain": [
       "<AxesSubplot:xlabel='Sex', ylabel='Survived'>"
      ]
     },
     "execution_count": 18,
     "metadata": {},
     "output_type": "execute_result"
    },
    {
     "data": {
      "image/png": "[encoded data removed]",
      "text/plain": [
       "<Figure size 432x288 with 1 Axes>"
      ]
     },
     "metadata": {
      "needs_background": "light"
     },
     "output_type": "display_data"
    }
   ],
   "source": [
    "sns.barplot(data=data, x='Sex', y='Survived')"
   ]
  },
  {
   "cell_type": "markdown",
   "id": "30bfa2f5-affa-4d67-befa-ed15fb4b5b66",
   "metadata": {},
   "source": [
    "Распределение для выживших и не выживших мужчин и женщин в зависимости от возраста"
   ]
  },
  {
   "cell_type": "code",
   "execution_count": 19,
   "id": "faac2723-8215-4660-85c3-e17edc1ced1d",
   "metadata": {},
   "outputs": [],
   "source": [
    "women_df = data[data['Sex']=='female']\n",
    "men_df = data[data['Sex']=='male']"
   ]
  },
  {
   "cell_type": "code",
   "execution_count": 20,
   "id": "729e59fc-6959-4c63-81f9-55c1b585c03c",
   "metadata": {},
   "outputs": [
    {
     "data": {
      "text/plain": [
       "Text(0.5, 1.0, 'Male')"
      ]
     },
     "execution_count": 20,
     "metadata": {},
     "output_type": "execute_result"
    },
    {
     "data": {
      "image/png": "[encoded data removed]",
      "text/plain": [
       "<Figure size 864x360 with 2 Axes>"
      ]
     },
     "metadata": {
      "needs_background": "light"
     },
     "output_type": "display_data"
    }
   ],
   "source": [
    "fig, axes = plt.subplots(1, 2, figsize=(12, 5))\n",
    "\n",
    "ax = sns.histplot(women_df[women_df['Survived']==1]['Age'], bins=20, label='survived', ax = axes[0], color='green')\n",
    "ax = sns.histplot(women_df[women_df['Survived']==0]['Age'], bins=20, label='not_survived', ax = axes[0], color='red')\n",
    "ax.legend()\n",
    "ax.set_title('Female')\n",
    "\n",
    "ax = sns.histplot(men_df[men_df['Survived']==0]['Age'], bins=20, label='not_survived', ax = axes[1], color='red')\n",
    "ax = sns.histplot(men_df[men_df['Survived']==1]['Age'], bins=20, label='survived', ax = axes[1], color='green')\n",
    "ax.legend()\n",
    "ax.set_title('Male')"
   ]
  },
  {
   "cell_type": "markdown",
   "id": "3ff76855-9ee2-4662-aeae-b552646fb7ce",
   "metadata": {},
   "source": [
    "Женщины, которые сели в порту S и Q выживали чаще, но чаще погибали, если садились в порту C.\n",
    "Мужчины имели больший шанс выжить, если сели в порту C, но чаще погибали, если садились в порту S и Q."
   ]
  },
  {
   "cell_type": "code",
   "execution_count": 21,
   "id": "a7150b9d-e811-43b8-93ef-2b4fc68548f3",
   "metadata": {},
   "outputs": [
    {
     "data": {
      "text/plain": [
       "<seaborn.axisgrid.FacetGrid at 0x240a7b9beb8>"
      ]
     },
     "execution_count": 21,
     "metadata": {},
     "output_type": "execute_result"
    },
    {
     "data": {
      "image/png": "[encoded data removed]",
      "text/plain": [
       "<Figure size 934.5x288 with 3 Axes>"
      ]
     },
     "metadata": {
      "needs_background": "light"
     },
     "output_type": "display_data"
    }
   ],
   "source": [
    "grid = sns.FacetGrid(data, col='Embarked', height=4, aspect=1)\n",
    "grid.map(sns.pointplot, 'Pclass', 'Survived', 'Sex', palette=['blue', 'red'], order=None, hue_order=None )\n",
    "grid.add_legend()"
   ]
  },
  {
   "cell_type": "code",
   "execution_count": 22,
   "id": "4243ca62-1ebc-4096-84d4-851712e998a5",
   "metadata": {},
   "outputs": [
    {
     "data": {
      "image/png": "[encoded data removed]",
      "text/plain": [
       "<Figure size 1296x360 with 3 Axes>"
      ]
     },
     "metadata": {
      "needs_background": "light"
     },
     "output_type": "display_data"
    }
   ],
   "source": [
    "fig, axes = plt.subplots(1, 3, figsize=(18, 5))\n",
    "\n",
    "ax = sns.barplot(data=data, x='SibSp', y='Survived', ax=axes[0])\n",
    "ax = sns.barplot(data=data, x='Parch', y='Survived', ax=axes[1])\n",
    "\n",
    "data['Relatives'] = data['Parch'] + data['SibSp']\n",
    "ax = sns.barplot(data=data, x='Relatives', y='Survived', ax=axes[2])\n",
    "plt.show()\n",
    "\n",
    "# Мы видим, что, в среднем, люди с 1-3 родственниками на борту выживают чаще. Заменим Parch и SibSp на Relatives для уменьшения количества признаков\n",
    "data['Relatives'] = data['Parch'] + data['SibSp']\n",
    "data = data.drop(columns=['SibSp', 'Parch'])"
   ]
  },
  {
   "cell_type": "markdown",
   "id": "da191886-fc9c-44d6-9f8e-f3424e033fc8",
   "metadata": {},
   "source": [
    "Преобразуем признаки Sex и Embarked"
   ]
  },
  {
   "cell_type": "code",
   "execution_count": 23,
   "id": "82a0f25a-713e-471c-9b37-3b39c89dfa2d",
   "metadata": {},
   "outputs": [],
   "source": [
    "data['Sex'] = data['Sex'].map({'male': 0, 'female': 1})\n",
    "data['Embarked'] = data['Embarked'].map({\"S\": 0, \"C\": 1, \"Q\": 2})"
   ]
  },
  {
   "cell_type": "markdown",
   "id": "1b1744c5-0d7e-49bb-bf00-23dca88bf64b",
   "metadata": {},
   "source": [
    "Создадим обучающую и тестовые выборки из даты"
   ]
  },
  {
   "cell_type": "code",
   "execution_count": 24,
   "id": "7d58741a-0a12-423f-93b6-c408ce85cd44",
   "metadata": {},
   "outputs": [],
   "source": [
    "train, test = train_test_split(data, test_size=0.2)"
   ]
  },
  {
   "cell_type": "code",
   "execution_count": 25,
   "id": "8259e560-7b1b-49f4-8cd6-e5c2f634512c",
   "metadata": {},
   "outputs": [
    {
     "data": {
      "text/plain": [
       "((711, 7), (178, 7))"
      ]
     },
     "execution_count": 25,
     "metadata": {},
     "output_type": "execute_result"
    }
   ],
   "source": [
    "train.shape, test.shape"
   ]
  },
  {
   "cell_type": "markdown",
   "id": "c9a55121-8e47-4fd2-9bf7-d42b5ce93b4d",
   "metadata": {},
   "source": [
    "Формируем тренировочные и тестовые данные"
   ]
  },
  {
   "cell_type": "code",
   "execution_count": 26,
   "id": "b3c3b0b2-15c7-47ae-94dc-5fc00d7acd1e",
   "metadata": {},
   "outputs": [],
   "source": [
    "x_train = train.drop(columns=['Survived'])\n",
    "y_train = train['Survived']"
   ]
  },
  {
   "cell_type": "code",
   "execution_count": 27,
   "id": "0d1eea67-a9a9-432a-bb95-20d57df988da",
   "metadata": {},
   "outputs": [],
   "source": [
    "x_test = test.drop(columns=['Survived'])\n",
    "y_test = test['Survived']"
   ]
  },
  {
   "cell_type": "markdown",
   "id": "436e6078-e951-494f-9c9e-933598025aa7",
   "metadata": {},
   "source": [
    "## KNN"
   ]
  },
  {
   "cell_type": "code",
   "execution_count": 28,
   "id": "7bfd3c77-6ef6-424d-98e4-d3fc9cf66533",
   "metadata": {},
   "outputs": [],
   "source": [
    "class KNN:\n",
    "    def __init__(self,K,x,y):\n",
    "        self.K = K\n",
    "        self.x = x.to_numpy()\n",
    "        self.y = y.to_numpy()\n",
    "    \n",
    "    def fit(self,x,y):\n",
    "        x = x.to_numpy()\n",
    "        res = []\n",
    "        err = 0\n",
    "        for d in range(len(x)):\n",
    "            dist = []\n",
    "            # Считаем расстояния от данной точки до всех остальных в дате\n",
    "            for i in range(len(self.x)):\n",
    "                dd = [(x[d][idx] - self.x[i][idx])**2 for idx in range(len(self.x[i]))]\n",
    "                dist.append([sum(dd)**0.5, self.y[i]])   \n",
    "            dist = sorted(dist)[:self.K]\n",
    "            inverse_distances = [1/c[0] for c in dist]   \n",
    "            sum_of_inverses = sum(inverse_distances)\n",
    "            weights = [[inverse / sum_of_inverses, dist[idx][1]] for idx, inverse in enumerate(inverse_distances)]\n",
    "            probabilities = {c : 0 for c in y.unique()}\n",
    "            for elem in weights:\n",
    "                probabilities[elem[1]] += elem[0]\n",
    "            res.append(max(probabilities, key=probabilities.get))\n",
    "            if res[-1] == y.to_numpy()[d]:\n",
    "                err += 1\n",
    "        return err / len(y.to_numpy())"
   ]
  },
  {
   "cell_type": "code",
   "execution_count": 29,
   "id": "ef3ba2a9-e8ec-4444-9c19-b3a945eaf50d",
   "metadata": {},
   "outputs": [
    {
     "name": "stderr",
     "output_type": "stream",
     "text": [
      "c:\\python372\\lib\\site-packages\\ipykernel_launcher.py:18: RuntimeWarning: divide by zero encountered in double_scalars\n",
      "c:\\python372\\lib\\site-packages\\ipykernel_launcher.py:20: RuntimeWarning: invalid value encountered in double_scalars\n"
     ]
    },
    {
     "data": {
      "text/plain": [
       "0.6853932584269663"
      ]
     },
     "execution_count": 29,
     "metadata": {},
     "output_type": "execute_result"
    }
   ],
   "source": [
    "model = KNN(3,x_train,y_train)\n",
    "model.fit(x_test,y_test)"
   ]
  },
  {
   "cell_type": "code",
   "execution_count": 30,
   "id": "019ccddb-5f3a-4289-b3af-834bd12d0bb9",
   "metadata": {},
   "outputs": [
    {
     "data": {
      "text/plain": [
       "0.6966292134831461"
      ]
     },
     "execution_count": 30,
     "metadata": {},
     "output_type": "execute_result"
    }
   ],
   "source": [
    "scores = []\n",
    "for i in range(2, 50):\n",
    "    knn = KNeighborsClassifier(n_neighbors = i)\n",
    "    knn.fit(x_train, y_train)\n",
    "    y_pred = knn.predict(x_test)\n",
    "    scores.append((y_test == y_pred).sum() / len(y_test))\n",
    "max(scores)"
   ]
  },
  {
   "cell_type": "markdown",
   "id": "fffecc0a-70ec-4028-a3e4-0765349ea545",
   "metadata": {},
   "source": [
    "Нормированная дата"
   ]
  },
  {
   "cell_type": "code",
   "execution_count": 31,
   "id": "6107c25e-df61-4c27-8a90-399557e44995",
   "metadata": {},
   "outputs": [
    {
     "data": {
      "text/plain": [
       "0.848314606741573"
      ]
     },
     "execution_count": 31,
     "metadata": {},
     "output_type": "execute_result"
    }
   ],
   "source": [
    "X_train_normalized = x_train.apply(lambda x: (x-x.mean()) / x.std(), axis=0)\n",
    "X_test_normalized = x_test.apply(lambda x: (x-x.mean()) / x.std(), axis=0)\n",
    "scores = []\n",
    "for i in range(2, 100):\n",
    "    knn = KNeighborsClassifier(n_neighbors = i)\n",
    "    knn.fit(X_train_normalized, y_train)\n",
    "    Y_pred = knn.predict(X_test_normalized)\n",
    "    scores.append((y_test == Y_pred).sum() / len(y_test))\n",
    "max(scores)"
   ]
  },
  {
   "cell_type": "code",
   "execution_count": 43,
   "id": "19759947-78f6-4344-bb4e-84a821568cbb",
   "metadata": {},
   "outputs": [],
   "source": [
    "class NaiveBayesClassifier:\n",
    "    def __init__(self):\n",
    "        pass\n",
    "\n",
    "    def get_probabilities(self, class_idx: int, x: np.array) -> np.array:\n",
    "        # Считаем вероятность как значение функции плотности нормального распределения в точке x=(p_1,..,p_n)  \n",
    "    \n",
    "        # Массив матожиданий и дисперсий для каждого признака при данном классе\n",
    "        mean = self.mean_cond_class[class_idx]\n",
    "        var = self.var_cond_class[class_idx]\n",
    "\n",
    "        # Считаем вероятность для каждого признака, используя плотность вероятности нормального распределения\n",
    "        exponent = np.exp((-1/2) * ((x-mean)**2) / (2 * var))\n",
    "        probabilities = exponent / np.sqrt(2 * np.pi * var)\n",
    "        return probabilities\n",
    "\n",
    "    # Найдем P(class|p_1,..,p_n)\n",
    "    def get_posterior(self, x: np.array) -> int:\n",
    "        posteriors = []\n",
    "        for class_idx in range(self.num_of_classes):\n",
    "            prior = np.log(self.prior[class_idx])\n",
    "            # Условная вероятность получить такие значения признаков для этого класса\n",
    "            conditional = np.sum(np.log(self.get_probabilities(class_idx, x)))\n",
    "            posterior = prior + conditionalВ\n",
    "            posteriors.append(posterior)\n",
    "        # Возвращаем класс, для которого такая вероятность максимальна\n",
    "        return self.classes[np.argmax(posteriors)]\n",
    "\n",
    "    def fit(self, X_train, Y_train):\n",
    "        self.classes = np.unique(Y_train)\n",
    "        self.num_of_classes = len(self.classes)\n",
    "        \n",
    "        # Посчитаем выборочные средние и дисперсии для каждого признака в зависимости от класса\n",
    "        self.mean_cond_class = X_train.groupby(Y_train).apply(np.mean).to_numpy()\n",
    "        self.var_cond_class = X_train.groupby(Y_train).apply(np.var).to_numpy()\n",
    "\n",
    "        # Считаем для каждого класса, сколько наблюдений принадлежит этому классу\n",
    "        self.prior = X_train.groupby(Y_train).apply(lambda col: len(col))\n",
    "        # Находим оценку вероятности того, что случайное наблюдение принадлежит этому классу\n",
    "        # путём деления результатов на общее количество наблюдений\n",
    "        self.prior = np.array(self.prior / len(Y_train))\n",
    "        \n",
    "    def predict(self, X_test):\n",
    "        return [self.get_posterior(f) for f in X_test.to_numpy()]\n",
    "    \n",
    "    def accuracy_score(self, Y_test, Y_pred):\n",
    "        return sum(Y_pred == Y_test) / len(Y_test)"
   ]
  },
  {
   "cell_type": "code",
   "execution_count": 44,
   "id": "40f77920-21c7-4c40-9b01-c8656d83b995",
   "metadata": {},
   "outputs": [
    {
     "ename": "NameError",
     "evalue": "name 'conditionalВ' is not defined",
     "output_type": "error",
     "traceback": [
      "\u001b[1;31m---------------------------------------------------------------------------\u001b[0m",
      "\u001b[1;31mNameError\u001b[0m                                 Traceback (most recent call last)",
      "\u001b[1;32m~\\AppData\\Local\\Temp/ipykernel_1956/866357975.py\u001b[0m in \u001b[0;36m<module>\u001b[1;34m\u001b[0m\n\u001b[0;32m      1\u001b[0m \u001b[0mnbc\u001b[0m \u001b[1;33m=\u001b[0m \u001b[0mNaiveBayesClassifier\u001b[0m\u001b[1;33m(\u001b[0m\u001b[1;33m)\u001b[0m\u001b[1;33m\u001b[0m\u001b[1;33m\u001b[0m\u001b[0m\n\u001b[0;32m      2\u001b[0m \u001b[0mnbc\u001b[0m\u001b[1;33m.\u001b[0m\u001b[0mfit\u001b[0m\u001b[1;33m(\u001b[0m\u001b[0mx_train\u001b[0m\u001b[1;33m,\u001b[0m \u001b[0my_train\u001b[0m\u001b[1;33m)\u001b[0m\u001b[1;33m\u001b[0m\u001b[1;33m\u001b[0m\u001b[0m\n\u001b[1;32m----> 3\u001b[1;33m \u001b[0my_pred\u001b[0m \u001b[1;33m=\u001b[0m \u001b[0mnbc\u001b[0m\u001b[1;33m.\u001b[0m\u001b[0mpredict\u001b[0m\u001b[1;33m(\u001b[0m\u001b[0mx_test\u001b[0m\u001b[1;33m)\u001b[0m\u001b[1;33m\u001b[0m\u001b[1;33m\u001b[0m\u001b[0m\n\u001b[0m\u001b[0;32m      4\u001b[0m \u001b[0mprint\u001b[0m\u001b[1;33m(\u001b[0m\u001b[1;34mf'Accuracy of custom Naive Bayes: {nbc.accuracy_score(y_test, y_pred)}'\u001b[0m\u001b[1;33m)\u001b[0m\u001b[1;33m\u001b[0m\u001b[1;33m\u001b[0m\u001b[0m\n",
      "\u001b[1;32m~\\AppData\\Local\\Temp/ipykernel_1956/488355864.py\u001b[0m in \u001b[0;36mpredict\u001b[1;34m(self, X_test)\u001b[0m\n\u001b[0;32m     42\u001b[0m \u001b[1;33m\u001b[0m\u001b[0m\n\u001b[0;32m     43\u001b[0m     \u001b[1;32mdef\u001b[0m \u001b[0mpredict\u001b[0m\u001b[1;33m(\u001b[0m\u001b[0mself\u001b[0m\u001b[1;33m,\u001b[0m \u001b[0mX_test\u001b[0m\u001b[1;33m)\u001b[0m\u001b[1;33m:\u001b[0m\u001b[1;33m\u001b[0m\u001b[1;33m\u001b[0m\u001b[0m\n\u001b[1;32m---> 44\u001b[1;33m         \u001b[1;32mreturn\u001b[0m \u001b[1;33m[\u001b[0m\u001b[0mself\u001b[0m\u001b[1;33m.\u001b[0m\u001b[0mget_posterior\u001b[0m\u001b[1;33m(\u001b[0m\u001b[0mf\u001b[0m\u001b[1;33m)\u001b[0m \u001b[1;32mfor\u001b[0m \u001b[0mf\u001b[0m \u001b[1;32min\u001b[0m \u001b[0mX_test\u001b[0m\u001b[1;33m.\u001b[0m\u001b[0mto_numpy\u001b[0m\u001b[1;33m(\u001b[0m\u001b[1;33m)\u001b[0m\u001b[1;33m]\u001b[0m\u001b[1;33m\u001b[0m\u001b[1;33m\u001b[0m\u001b[0m\n\u001b[0m\u001b[0;32m     45\u001b[0m \u001b[1;33m\u001b[0m\u001b[0m\n\u001b[0;32m     46\u001b[0m     \u001b[1;32mdef\u001b[0m \u001b[0maccuracy_score\u001b[0m\u001b[1;33m(\u001b[0m\u001b[0mself\u001b[0m\u001b[1;33m,\u001b[0m \u001b[0mY_test\u001b[0m\u001b[1;33m,\u001b[0m \u001b[0mY_pred\u001b[0m\u001b[1;33m)\u001b[0m\u001b[1;33m:\u001b[0m\u001b[1;33m\u001b[0m\u001b[1;33m\u001b[0m\u001b[0m\n",
      "\u001b[1;32m~\\AppData\\Local\\Temp/ipykernel_1956/488355864.py\u001b[0m in \u001b[0;36m<listcomp>\u001b[1;34m(.0)\u001b[0m\n\u001b[0;32m     42\u001b[0m \u001b[1;33m\u001b[0m\u001b[0m\n\u001b[0;32m     43\u001b[0m     \u001b[1;32mdef\u001b[0m \u001b[0mpredict\u001b[0m\u001b[1;33m(\u001b[0m\u001b[0mself\u001b[0m\u001b[1;33m,\u001b[0m \u001b[0mX_test\u001b[0m\u001b[1;33m)\u001b[0m\u001b[1;33m:\u001b[0m\u001b[1;33m\u001b[0m\u001b[1;33m\u001b[0m\u001b[0m\n\u001b[1;32m---> 44\u001b[1;33m         \u001b[1;32mreturn\u001b[0m \u001b[1;33m[\u001b[0m\u001b[0mself\u001b[0m\u001b[1;33m.\u001b[0m\u001b[0mget_posterior\u001b[0m\u001b[1;33m(\u001b[0m\u001b[0mf\u001b[0m\u001b[1;33m)\u001b[0m \u001b[1;32mfor\u001b[0m \u001b[0mf\u001b[0m \u001b[1;32min\u001b[0m \u001b[0mX_test\u001b[0m\u001b[1;33m.\u001b[0m\u001b[0mto_numpy\u001b[0m\u001b[1;33m(\u001b[0m\u001b[1;33m)\u001b[0m\u001b[1;33m]\u001b[0m\u001b[1;33m\u001b[0m\u001b[1;33m\u001b[0m\u001b[0m\n\u001b[0m\u001b[0;32m     45\u001b[0m \u001b[1;33m\u001b[0m\u001b[0m\n\u001b[0;32m     46\u001b[0m     \u001b[1;32mdef\u001b[0m \u001b[0maccuracy_score\u001b[0m\u001b[1;33m(\u001b[0m\u001b[0mself\u001b[0m\u001b[1;33m,\u001b[0m \u001b[0mY_test\u001b[0m\u001b[1;33m,\u001b[0m \u001b[0mY_pred\u001b[0m\u001b[1;33m)\u001b[0m\u001b[1;33m:\u001b[0m\u001b[1;33m\u001b[0m\u001b[1;33m\u001b[0m\u001b[0m\n",
      "\u001b[1;32m~\\AppData\\Local\\Temp/ipykernel_1956/488355864.py\u001b[0m in \u001b[0;36mget_posterior\u001b[1;34m(self, x)\u001b[0m\n\u001b[0;32m     22\u001b[0m             \u001b[1;31m# Условная вероятность получить такие значения признаков для этого класса\u001b[0m\u001b[1;33m\u001b[0m\u001b[1;33m\u001b[0m\u001b[1;33m\u001b[0m\u001b[0m\n\u001b[0;32m     23\u001b[0m             \u001b[0mconditional\u001b[0m \u001b[1;33m=\u001b[0m \u001b[0mnp\u001b[0m\u001b[1;33m.\u001b[0m\u001b[0msum\u001b[0m\u001b[1;33m(\u001b[0m\u001b[0mnp\u001b[0m\u001b[1;33m.\u001b[0m\u001b[0mlog\u001b[0m\u001b[1;33m(\u001b[0m\u001b[0mself\u001b[0m\u001b[1;33m.\u001b[0m\u001b[0mget_probabilities\u001b[0m\u001b[1;33m(\u001b[0m\u001b[0mclass_idx\u001b[0m\u001b[1;33m,\u001b[0m \u001b[0mx\u001b[0m\u001b[1;33m)\u001b[0m\u001b[1;33m)\u001b[0m\u001b[1;33m)\u001b[0m\u001b[1;33m\u001b[0m\u001b[1;33m\u001b[0m\u001b[0m\n\u001b[1;32m---> 24\u001b[1;33m             \u001b[0mposterior\u001b[0m \u001b[1;33m=\u001b[0m \u001b[0mprior\u001b[0m \u001b[1;33m+\u001b[0m \u001b[0mconditionalВ\u001b[0m\u001b[1;33m\u001b[0m\u001b[1;33m\u001b[0m\u001b[0m\n\u001b[0m\u001b[0;32m     25\u001b[0m             \u001b[0mposteriors\u001b[0m\u001b[1;33m.\u001b[0m\u001b[0mappend\u001b[0m\u001b[1;33m(\u001b[0m\u001b[0mposterior\u001b[0m\u001b[1;33m)\u001b[0m\u001b[1;33m\u001b[0m\u001b[1;33m\u001b[0m\u001b[0m\n\u001b[0;32m     26\u001b[0m         \u001b[1;31m# Возвращаем класс, для которого такая вероятность максимальна\u001b[0m\u001b[1;33m\u001b[0m\u001b[1;33m\u001b[0m\u001b[1;33m\u001b[0m\u001b[0m\n",
      "\u001b[1;31mNameError\u001b[0m: name 'conditionalВ' is not defined"
     ]
    }
   ],
   "source": [
    "nbc = NaiveBayesClassifier()\n",
    "nbc.fit(x_train, y_train)\n",
    "y_pred = nbc.predict(x_test)\n",
    "print(f'Accuracy of custom Naive Bayes: {nbc.accuracy_score(y_test, y_pred)}')"
   ]
  },
  {
   "cell_type": "code",
   "execution_count": 42,
   "id": "339b4ca7-7a42-4690-8726-94a0b65c7290",
   "metadata": {},
   "outputs": [
    {
     "name": "stdout",
     "output_type": "stream",
     "text": [
      "Accuracy of sklearn Naive Bayes: 0.8002812939521801\n"
     ]
    }
   ],
   "source": [
    "gaussian = GaussianNB() \n",
    "gaussian.fit(x_train, y_train) \n",
    "y_pred = gaussian.predict(x_test)  \n",
    "print(f'Accuracy of sklearn Naive Bayes: {gaussian.score(x_train, y_train)}')"
   ]
  },
  {
   "cell_type": "code",
   "execution_count": null,
   "id": "642d026a-f7ad-40f2-806d-e567d2e84347",
   "metadata": {},
   "outputs": [],
   "source": []
  }
 ],
 "metadata": {
  "kernelspec": {
   "display_name": "Python 3 (ipykernel)",
   "language": "python",
   "name": "python3"
  },
  "language_info": {
   "codemirror_mode": {
    "name": "ipython",
    "version": 3
   },
   "file_extension": ".py",
   "mimetype": "text/x-python",
   "name": "python",
   "nbconvert_exporter": "python",
   "pygments_lexer": "ipython3",
   "version": "3.7.2rc1"
  }
 },
 "nbformat": 4,
 "nbformat_minor": 5
}
